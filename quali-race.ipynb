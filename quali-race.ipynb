{
 "cells": [
  {
   "cell_type": "markdown",
   "id": "d6416ff9-4781-40e8-a8fb-28db81ec2970",
   "metadata": {},
   "source": [
    "# Formula 1 driver performance comparison\n",
    "\n",
    "At every race, drivers have to complete a qualifying lap on Saturday and race on the next day. Qualifying result will determine the position of the grid for the race. This analysis will serve the function to observe the relationship between the two-day results.\n",
    "\n",
    "This analysis will use Formula 1 API from [Ergast](https://ergast.com/mrd/)"
   ]
  },
  {
   "cell_type": "code",
   "execution_count": 29,
   "id": "cbfad7a0-8db6-4374-b9eb-0cde92d400e8",
   "metadata": {},
   "outputs": [],
   "source": [
    "import requests as re\n",
    "import pandas as pd\n",
    "import json\n",
    "from pandas import json_normalize\n",
    "import seaborn as sns"
   ]
  },
  {
   "cell_type": "code",
   "execution_count": 13,
   "id": "2340af74-36d6-4696-9582-f1de0e77d833",
   "metadata": {},
   "outputs": [],
   "source": [
    "main_df = pd.DataFrame()\n",
    "data = []\n",
    "\n",
    "for i in range(1,21):\n",
    "    url = \"https://ergast.com/api/f1/2021/qualifying/\" + str(i) + \".json\"\n",
    "    response = re.get(url)\n",
    "    json = response.json()\n",
    "    df = json_normalize(json['MRData']['RaceTable']['Races'])\n",
    "    drivers = []\n",
    "    for j in json['MRData']['RaceTable']['Races']:\n",
    "        for k in j['QualifyingResults']:\n",
    "            drivers.append(k['Driver']['code'])\n",
    "    df['QualifyingResults'] = drivers\n",
    "    df['position'] = i\n",
    "    data.append(df)\n",
    "\n",
    "main_df = main_df.append(data, True)"
   ]
  },
  {
   "cell_type": "code",
   "execution_count": 18,
   "id": "3abb611b-b09f-477d-b47e-4ec504a3721a",
   "metadata": {},
   "outputs": [
    {
     "data": {
      "text/html": [
       "<div>\n",
       "<style scoped>\n",
       "    .dataframe tbody tr th:only-of-type {\n",
       "        vertical-align: middle;\n",
       "    }\n",
       "\n",
       "    .dataframe tbody tr th {\n",
       "        vertical-align: top;\n",
       "    }\n",
       "\n",
       "    .dataframe thead th {\n",
       "        text-align: right;\n",
       "    }\n",
       "</style>\n",
       "<table border=\"1\" class=\"dataframe\">\n",
       "  <thead>\n",
       "    <tr style=\"text-align: right;\">\n",
       "      <th></th>\n",
       "      <th>round</th>\n",
       "      <th>raceName</th>\n",
       "      <th>QualifyingResults</th>\n",
       "      <th>position</th>\n",
       "    </tr>\n",
       "  </thead>\n",
       "  <tbody>\n",
       "    <tr>\n",
       "      <th>0</th>\n",
       "      <td>1</td>\n",
       "      <td>Bahrain Grand Prix</td>\n",
       "      <td>VER</td>\n",
       "      <td>1</td>\n",
       "    </tr>\n",
       "    <tr>\n",
       "      <th>1</th>\n",
       "      <td>2</td>\n",
       "      <td>Emilia Romagna Grand Prix</td>\n",
       "      <td>HAM</td>\n",
       "      <td>1</td>\n",
       "    </tr>\n",
       "    <tr>\n",
       "      <th>2</th>\n",
       "      <td>3</td>\n",
       "      <td>Portuguese Grand Prix</td>\n",
       "      <td>BOT</td>\n",
       "      <td>1</td>\n",
       "    </tr>\n",
       "    <tr>\n",
       "      <th>3</th>\n",
       "      <td>4</td>\n",
       "      <td>Spanish Grand Prix</td>\n",
       "      <td>HAM</td>\n",
       "      <td>1</td>\n",
       "    </tr>\n",
       "    <tr>\n",
       "      <th>4</th>\n",
       "      <td>5</td>\n",
       "      <td>Monaco Grand Prix</td>\n",
       "      <td>LEC</td>\n",
       "      <td>1</td>\n",
       "    </tr>\n",
       "  </tbody>\n",
       "</table>\n",
       "</div>"
      ],
      "text/plain": [
       "  round                   raceName QualifyingResults  position\n",
       "0     1         Bahrain Grand Prix               VER         1\n",
       "1     2  Emilia Romagna Grand Prix               HAM         1\n",
       "2     3      Portuguese Grand Prix               BOT         1\n",
       "3     4         Spanish Grand Prix               HAM         1\n",
       "4     5          Monaco Grand Prix               LEC         1"
      ]
     },
     "execution_count": 18,
     "metadata": {},
     "output_type": "execute_result"
    }
   ],
   "source": [
    "main_df = main_df[['round', 'raceName', 'QualifyingResults', 'position']]\n",
    "main_df.head()"
   ]
  },
  {
   "cell_type": "code",
   "execution_count": 38,
   "id": "00d52919-1d1f-485b-82bf-9db2ece40144",
   "metadata": {},
   "outputs": [
    {
     "data": {
      "image/png": "[encoded data removed]",
      "text/plain": [
       "<Figure size 432x288 with 2 Axes>"
      ]
     },
     "metadata": {
      "needs_background": "light"
     },
     "output_type": "display_data"
    }
   ],
   "source": [
    "pivot = pd.pivot_table(main_df, values='QualifyingResults', index=['position'], columns=['round'], aggfunc='count')\n",
    "ax = sns.heatmap(pivot)\n",
    "ax.set_title('Check for empty qualifying data');"
   ]
  },
  {
   "cell_type": "markdown",
   "id": "4af35c5e-01e2-4096-8289-ebd06e1498e7",
   "metadata": {},
   "source": []
  },
  {
   "cell_type": "markdown",
   "id": "35114019-3e7d-4497-b68e-3f1d90746ea3",
   "metadata": {},
   "source": [
    "## Get race positions\n",
    "[to do]"
   ]
  },
  {
   "cell_type": "markdown",
   "id": "b8790516-483e-4eb8-9134-c48943a2820f",
   "metadata": {},
   "source": [
    "## Merge the two tables\n",
    "[to do]"
   ]
  },
  {
   "cell_type": "markdown",
   "id": "92072cdc-d696-40db-bce1-58c2327f92ae",
   "metadata": {},
   "source": [
    "## Export to csv or chart scatter plot of all data\n",
    "[to do]"
   ]
  },
  {
   "cell_type": "code",
   "execution_count": null,
   "id": "8d807781-3332-4a53-8964-0e5673eccdd3",
   "metadata": {},
   "outputs": [],
   "source": []
  }
 ],
 "metadata": {
  "kernelspec": {
   "display_name": "Python 3 (ipykernel)",
   "language": "python",
   "name": "python3"
  },
  "language_info": {
   "codemirror_mode": {
    "name": "ipython",
    "version": 3
   },
   "file_extension": ".py",
   "mimetype": "text/x-python",
   "name": "python",
   "nbconvert_exporter": "python",
   "pygments_lexer": "ipython3",
   "version": "3.9.6"
  }
 },
 "nbformat": 4,
 "nbformat_minor": 5
}
