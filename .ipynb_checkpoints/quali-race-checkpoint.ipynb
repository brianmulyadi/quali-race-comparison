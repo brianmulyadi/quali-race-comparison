{
 "cells": [
  {
   "cell_type": "markdown",
   "id": "d6416ff9-4781-40e8-a8fb-28db81ec2970",
   "metadata": {},
   "source": [
    "# Formula 1 driver performance comparison\n",
    "\n",
    "At every race, drivers have to complete a qualifying lap on Saturday and race on the next day. Qualifying result will determine the position of the grid for the race. This analysis will serve the function to observe the relationship between the two-day results.\n",
    "\n",
    "This analysis will use Formula 1 API from [Ergast](https://ergast.com/mrd/)"
   ]
  },
  {
   "cell_type": "code",
   "execution_count": 115,
   "id": "cbfad7a0-8db6-4374-b9eb-0cde92d400e8",
   "metadata": {},
   "outputs": [],
   "source": [
    "import requests as re\n",
    "import pandas as pd\n",
    "import json\n",
    "import numpy as np\n",
    "from pandas import json_normalize\n",
    "import seaborn as sns\n",
    "import matplotlib.pyplot as plt"
   ]
  },
  {
   "cell_type": "code",
   "execution_count": 3,
   "id": "2340af74-36d6-4696-9582-f1de0e77d833",
   "metadata": {},
   "outputs": [],
   "source": [
    "main_df = pd.DataFrame()\n",
    "data = []\n",
    "\n",
    "for i in range(1,21):\n",
    "    url = \"https://ergast.com/api/f1/2021/qualifying/\" + str(i) + \".json\"\n",
    "    response = re.get(url)\n",
    "    json = response.json()\n",
    "    df = json_normalize(json['MRData']['RaceTable']['Races'])\n",
    "    drivers = []\n",
    "    for j in json['MRData']['RaceTable']['Races']:\n",
    "        for k in j['QualifyingResults']:\n",
    "            drivers.append(k['Driver']['code'])\n",
    "    df['QualifyingResults'] = drivers\n",
    "    df['position'] = i\n",
    "    data.append(df)\n",
    "\n",
    "main_df = main_df.append(data, True)"
   ]
  },
  {
   "cell_type": "code",
   "execution_count": 4,
   "id": "3abb611b-b09f-477d-b47e-4ec504a3721a",
   "metadata": {},
   "outputs": [
    {
     "data": {
      "text/html": [
       "<div>\n",
       "<style scoped>\n",
       "    .dataframe tbody tr th:only-of-type {\n",
       "        vertical-align: middle;\n",
       "    }\n",
       "\n",
       "    .dataframe tbody tr th {\n",
       "        vertical-align: top;\n",
       "    }\n",
       "\n",
       "    .dataframe thead th {\n",
       "        text-align: right;\n",
       "    }\n",
       "</style>\n",
       "<table border=\"1\" class=\"dataframe\">\n",
       "  <thead>\n",
       "    <tr style=\"text-align: right;\">\n",
       "      <th></th>\n",
       "      <th>round</th>\n",
       "      <th>raceName</th>\n",
       "      <th>QualifyingResults</th>\n",
       "      <th>position</th>\n",
       "    </tr>\n",
       "  </thead>\n",
       "  <tbody>\n",
       "    <tr>\n",
       "      <th>0</th>\n",
       "      <td>1</td>\n",
       "      <td>Bahrain Grand Prix</td>\n",
       "      <td>VER</td>\n",
       "      <td>1</td>\n",
       "    </tr>\n",
       "    <tr>\n",
       "      <th>1</th>\n",
       "      <td>2</td>\n",
       "      <td>Emilia Romagna Grand Prix</td>\n",
       "      <td>HAM</td>\n",
       "      <td>1</td>\n",
       "    </tr>\n",
       "    <tr>\n",
       "      <th>2</th>\n",
       "      <td>3</td>\n",
       "      <td>Portuguese Grand Prix</td>\n",
       "      <td>BOT</td>\n",
       "      <td>1</td>\n",
       "    </tr>\n",
       "    <tr>\n",
       "      <th>3</th>\n",
       "      <td>4</td>\n",
       "      <td>Spanish Grand Prix</td>\n",
       "      <td>HAM</td>\n",
       "      <td>1</td>\n",
       "    </tr>\n",
       "    <tr>\n",
       "      <th>4</th>\n",
       "      <td>5</td>\n",
       "      <td>Monaco Grand Prix</td>\n",
       "      <td>LEC</td>\n",
       "      <td>1</td>\n",
       "    </tr>\n",
       "  </tbody>\n",
       "</table>\n",
       "</div>"
      ],
      "text/plain": [
       "  round                   raceName QualifyingResults  position\n",
       "0     1         Bahrain Grand Prix               VER         1\n",
       "1     2  Emilia Romagna Grand Prix               HAM         1\n",
       "2     3      Portuguese Grand Prix               BOT         1\n",
       "3     4         Spanish Grand Prix               HAM         1\n",
       "4     5          Monaco Grand Prix               LEC         1"
      ]
     },
     "execution_count": 4,
     "metadata": {},
     "output_type": "execute_result"
    }
   ],
   "source": [
    "main_df = main_df[['round', 'raceName', 'QualifyingResults', 'position']]\n",
    "main_df.head()"
   ]
  },
  {
   "cell_type": "code",
   "execution_count": 5,
   "id": "00d52919-1d1f-485b-82bf-9db2ece40144",
   "metadata": {},
   "outputs": [
    {
     "data": {
      "image/png": "[encoded data removed]",
      "text/plain": [
       "<Figure size 432x288 with 2 Axes>"
      ]
     },
     "metadata": {
      "needs_background": "light"
     },
     "output_type": "display_data"
    }
   ],
   "source": [
    "pivot = pd.pivot_table(main_df, values='QualifyingResults', index=['position'], columns=['round'], aggfunc='count')\n",
    "ax = sns.heatmap(pivot)\n",
    "ax.set_title('Check for empty qualifying data');"
   ]
  },
  {
   "cell_type": "markdown",
   "id": "4af35c5e-01e2-4096-8289-ebd06e1498e7",
   "metadata": {},
   "source": []
  },
  {
   "cell_type": "markdown",
   "id": "35114019-3e7d-4497-b68e-3f1d90746ea3",
   "metadata": {},
   "source": [
    "## Get race positions\n",
    "[to do]"
   ]
  },
  {
   "cell_type": "code",
   "execution_count": 6,
   "id": "1a33bf33-e96b-4f0f-90d2-31e7911c45a7",
   "metadata": {},
   "outputs": [],
   "source": [
    "race_df = pd.DataFrame()\n",
    "data = []\n",
    "\n",
    "for i in range(1,21):\n",
    "    url = \"http://ergast.com/api/f1/2021/results/\" + str(i) + \".json\"\n",
    "    response = re.get(url)\n",
    "    json = response.json()\n",
    "    df = json_normalize(json['MRData']['RaceTable']['Races'])\n",
    "    drivers = []\n",
    "    for j in json['MRData']['RaceTable']['Races']:\n",
    "        for k in j['Results']:\n",
    "            drivers.append(k['Driver']['code'])\n",
    "    df['Results'] = drivers\n",
    "    df['position'] = i\n",
    "    data.append(df)\n",
    "\n",
    "race_df = race_df.append(data, True)"
   ]
  },
  {
   "cell_type": "code",
   "execution_count": 7,
   "id": "d783f5d4-23a3-4b9c-830f-fda5cb176360",
   "metadata": {},
   "outputs": [
    {
     "data": {
      "text/html": [
       "<div>\n",
       "<style scoped>\n",
       "    .dataframe tbody tr th:only-of-type {\n",
       "        vertical-align: middle;\n",
       "    }\n",
       "\n",
       "    .dataframe tbody tr th {\n",
       "        vertical-align: top;\n",
       "    }\n",
       "\n",
       "    .dataframe thead th {\n",
       "        text-align: right;\n",
       "    }\n",
       "</style>\n",
       "<table border=\"1\" class=\"dataframe\">\n",
       "  <thead>\n",
       "    <tr style=\"text-align: right;\">\n",
       "      <th></th>\n",
       "      <th>round</th>\n",
       "      <th>raceName</th>\n",
       "      <th>Results</th>\n",
       "      <th>position</th>\n",
       "    </tr>\n",
       "  </thead>\n",
       "  <tbody>\n",
       "    <tr>\n",
       "      <th>0</th>\n",
       "      <td>1</td>\n",
       "      <td>Bahrain Grand Prix</td>\n",
       "      <td>HAM</td>\n",
       "      <td>1</td>\n",
       "    </tr>\n",
       "    <tr>\n",
       "      <th>1</th>\n",
       "      <td>2</td>\n",
       "      <td>Emilia Romagna Grand Prix</td>\n",
       "      <td>VER</td>\n",
       "      <td>1</td>\n",
       "    </tr>\n",
       "    <tr>\n",
       "      <th>2</th>\n",
       "      <td>3</td>\n",
       "      <td>Portuguese Grand Prix</td>\n",
       "      <td>HAM</td>\n",
       "      <td>1</td>\n",
       "    </tr>\n",
       "    <tr>\n",
       "      <th>3</th>\n",
       "      <td>4</td>\n",
       "      <td>Spanish Grand Prix</td>\n",
       "      <td>HAM</td>\n",
       "      <td>1</td>\n",
       "    </tr>\n",
       "    <tr>\n",
       "      <th>4</th>\n",
       "      <td>5</td>\n",
       "      <td>Monaco Grand Prix</td>\n",
       "      <td>VER</td>\n",
       "      <td>1</td>\n",
       "    </tr>\n",
       "  </tbody>\n",
       "</table>\n",
       "</div>"
      ],
      "text/plain": [
       "  round                   raceName Results  position\n",
       "0     1         Bahrain Grand Prix     HAM         1\n",
       "1     2  Emilia Romagna Grand Prix     VER         1\n",
       "2     3      Portuguese Grand Prix     HAM         1\n",
       "3     4         Spanish Grand Prix     HAM         1\n",
       "4     5          Monaco Grand Prix     VER         1"
      ]
     },
     "execution_count": 7,
     "metadata": {},
     "output_type": "execute_result"
    }
   ],
   "source": [
    "race_df = race_df[['round', 'raceName', 'Results', 'position']]\n",
    "race_df.head()"
   ]
  },
  {
   "cell_type": "code",
   "execution_count": 8,
   "id": "e873ae0e-c99c-4a76-b337-a7474cecad59",
   "metadata": {},
   "outputs": [
    {
     "data": {
      "image/png": "[encoded data removed]",
      "text/plain": [
       "<Figure size 432x288 with 2 Axes>"
      ]
     },
     "metadata": {
      "needs_background": "light"
     },
     "output_type": "display_data"
    }
   ],
   "source": [
    "pivot = pd.pivot_table(race_df, values='Results', index=['position'], columns=['round'], aggfunc='count')\n",
    "ax = sns.heatmap(pivot)\n",
    "ax.set_title('Check for empty qualifying data');"
   ]
  },
  {
   "cell_type": "markdown",
   "id": "b8790516-483e-4eb8-9134-c48943a2820f",
   "metadata": {},
   "source": [
    "## Merge the two tables\n",
    "[to do]"
   ]
  },
  {
   "cell_type": "code",
   "execution_count": 9,
   "id": "3e0235e6-bf93-416a-9f6e-e4dce9053c4c",
   "metadata": {},
   "outputs": [],
   "source": [
    "# renaming columns\n",
    "main_df.rename(columns={'QualifyingResults':'driver', 'position': 'quali_pos'}, inplace=True)\n",
    "race_df.rename(columns={'Results':'driver', 'position': 'race_pos'}, inplace=True)"
   ]
  },
  {
   "cell_type": "code",
   "execution_count": 10,
   "id": "06118976-366f-4d02-a39e-caa3f661bfab",
   "metadata": {},
   "outputs": [
    {
     "data": {
      "text/html": [
       "<div>\n",
       "<style scoped>\n",
       "    .dataframe tbody tr th:only-of-type {\n",
       "        vertical-align: middle;\n",
       "    }\n",
       "\n",
       "    .dataframe tbody tr th {\n",
       "        vertical-align: top;\n",
       "    }\n",
       "\n",
       "    .dataframe thead th {\n",
       "        text-align: right;\n",
       "    }\n",
       "</style>\n",
       "<table border=\"1\" class=\"dataframe\">\n",
       "  <thead>\n",
       "    <tr style=\"text-align: right;\">\n",
       "      <th></th>\n",
       "      <th>round</th>\n",
       "      <th>raceName</th>\n",
       "      <th>driver</th>\n",
       "      <th>quali_pos</th>\n",
       "      <th>to_match</th>\n",
       "    </tr>\n",
       "  </thead>\n",
       "  <tbody>\n",
       "    <tr>\n",
       "      <th>0</th>\n",
       "      <td>1</td>\n",
       "      <td>Bahrain Grand Prix</td>\n",
       "      <td>VER</td>\n",
       "      <td>1</td>\n",
       "      <td>1-VER</td>\n",
       "    </tr>\n",
       "    <tr>\n",
       "      <th>1</th>\n",
       "      <td>2</td>\n",
       "      <td>Emilia Romagna Grand Prix</td>\n",
       "      <td>HAM</td>\n",
       "      <td>1</td>\n",
       "      <td>2-HAM</td>\n",
       "    </tr>\n",
       "    <tr>\n",
       "      <th>2</th>\n",
       "      <td>3</td>\n",
       "      <td>Portuguese Grand Prix</td>\n",
       "      <td>BOT</td>\n",
       "      <td>1</td>\n",
       "      <td>3-BOT</td>\n",
       "    </tr>\n",
       "    <tr>\n",
       "      <th>3</th>\n",
       "      <td>4</td>\n",
       "      <td>Spanish Grand Prix</td>\n",
       "      <td>HAM</td>\n",
       "      <td>1</td>\n",
       "      <td>4-HAM</td>\n",
       "    </tr>\n",
       "    <tr>\n",
       "      <th>4</th>\n",
       "      <td>5</td>\n",
       "      <td>Monaco Grand Prix</td>\n",
       "      <td>LEC</td>\n",
       "      <td>1</td>\n",
       "      <td>5-LEC</td>\n",
       "    </tr>\n",
       "  </tbody>\n",
       "</table>\n",
       "</div>"
      ],
      "text/plain": [
       "  round                   raceName driver  quali_pos to_match\n",
       "0     1         Bahrain Grand Prix    VER          1    1-VER\n",
       "1     2  Emilia Romagna Grand Prix    HAM          1    2-HAM\n",
       "2     3      Portuguese Grand Prix    BOT          1    3-BOT\n",
       "3     4         Spanish Grand Prix    HAM          1    4-HAM\n",
       "4     5          Monaco Grand Prix    LEC          1    5-LEC"
      ]
     },
     "execution_count": 10,
     "metadata": {},
     "output_type": "execute_result"
    }
   ],
   "source": [
    "main_df['to_match'] = main_df[['round', 'driver']].agg('-'.join, axis=1)\n",
    "main_df.head()"
   ]
  },
  {
   "cell_type": "code",
   "execution_count": 11,
   "id": "aec12771-ad36-4964-8e4f-c08b93cacbf0",
   "metadata": {},
   "outputs": [
    {
     "data": {
      "text/html": [
       "<div>\n",
       "<style scoped>\n",
       "    .dataframe tbody tr th:only-of-type {\n",
       "        vertical-align: middle;\n",
       "    }\n",
       "\n",
       "    .dataframe tbody tr th {\n",
       "        vertical-align: top;\n",
       "    }\n",
       "\n",
       "    .dataframe thead th {\n",
       "        text-align: right;\n",
       "    }\n",
       "</style>\n",
       "<table border=\"1\" class=\"dataframe\">\n",
       "  <thead>\n",
       "    <tr style=\"text-align: right;\">\n",
       "      <th></th>\n",
       "      <th>round</th>\n",
       "      <th>raceName</th>\n",
       "      <th>driver</th>\n",
       "      <th>race_pos</th>\n",
       "      <th>to_match</th>\n",
       "    </tr>\n",
       "  </thead>\n",
       "  <tbody>\n",
       "    <tr>\n",
       "      <th>0</th>\n",
       "      <td>1</td>\n",
       "      <td>Bahrain Grand Prix</td>\n",
       "      <td>HAM</td>\n",
       "      <td>1</td>\n",
       "      <td>1-HAM</td>\n",
       "    </tr>\n",
       "    <tr>\n",
       "      <th>1</th>\n",
       "      <td>2</td>\n",
       "      <td>Emilia Romagna Grand Prix</td>\n",
       "      <td>VER</td>\n",
       "      <td>1</td>\n",
       "      <td>2-VER</td>\n",
       "    </tr>\n",
       "    <tr>\n",
       "      <th>2</th>\n",
       "      <td>3</td>\n",
       "      <td>Portuguese Grand Prix</td>\n",
       "      <td>HAM</td>\n",
       "      <td>1</td>\n",
       "      <td>3-HAM</td>\n",
       "    </tr>\n",
       "    <tr>\n",
       "      <th>3</th>\n",
       "      <td>4</td>\n",
       "      <td>Spanish Grand Prix</td>\n",
       "      <td>HAM</td>\n",
       "      <td>1</td>\n",
       "      <td>4-HAM</td>\n",
       "    </tr>\n",
       "    <tr>\n",
       "      <th>4</th>\n",
       "      <td>5</td>\n",
       "      <td>Monaco Grand Prix</td>\n",
       "      <td>VER</td>\n",
       "      <td>1</td>\n",
       "      <td>5-VER</td>\n",
       "    </tr>\n",
       "  </tbody>\n",
       "</table>\n",
       "</div>"
      ],
      "text/plain": [
       "  round                   raceName driver  race_pos to_match\n",
       "0     1         Bahrain Grand Prix    HAM         1    1-HAM\n",
       "1     2  Emilia Romagna Grand Prix    VER         1    2-VER\n",
       "2     3      Portuguese Grand Prix    HAM         1    3-HAM\n",
       "3     4         Spanish Grand Prix    HAM         1    4-HAM\n",
       "4     5          Monaco Grand Prix    VER         1    5-VER"
      ]
     },
     "execution_count": 11,
     "metadata": {},
     "output_type": "execute_result"
    }
   ],
   "source": [
    "race_df['to_match'] = race_df[['round', 'driver']].agg('-'.join, axis=1)\n",
    "race_df.head()"
   ]
  },
  {
   "cell_type": "code",
   "execution_count": 64,
   "id": "548085a6-7d47-435d-902a-7e7b587b3208",
   "metadata": {},
   "outputs": [
    {
     "data": {
      "text/html": [
       "<div>\n",
       "<style scoped>\n",
       "    .dataframe tbody tr th:only-of-type {\n",
       "        vertical-align: middle;\n",
       "    }\n",
       "\n",
       "    .dataframe tbody tr th {\n",
       "        vertical-align: top;\n",
       "    }\n",
       "\n",
       "    .dataframe thead th {\n",
       "        text-align: right;\n",
       "    }\n",
       "</style>\n",
       "<table border=\"1\" class=\"dataframe\">\n",
       "  <thead>\n",
       "    <tr style=\"text-align: right;\">\n",
       "      <th></th>\n",
       "      <th>round</th>\n",
       "      <th>raceName</th>\n",
       "      <th>driver</th>\n",
       "      <th>quali_pos</th>\n",
       "      <th>to_match</th>\n",
       "      <th>race_pos_x</th>\n",
       "      <th>race_pos_y</th>\n",
       "      <th>race_pos_x</th>\n",
       "      <th>race_pos_y</th>\n",
       "      <th>race_pos</th>\n",
       "    </tr>\n",
       "  </thead>\n",
       "  <tbody>\n",
       "    <tr>\n",
       "      <th>0</th>\n",
       "      <td>1</td>\n",
       "      <td>Bahrain Grand Prix</td>\n",
       "      <td>VER</td>\n",
       "      <td>1</td>\n",
       "      <td>1-VER</td>\n",
       "      <td>2.0</td>\n",
       "      <td>2.0</td>\n",
       "      <td>2.0</td>\n",
       "      <td>2.0</td>\n",
       "      <td>2.0</td>\n",
       "    </tr>\n",
       "    <tr>\n",
       "      <th>1</th>\n",
       "      <td>2</td>\n",
       "      <td>Emilia Romagna Grand Prix</td>\n",
       "      <td>HAM</td>\n",
       "      <td>1</td>\n",
       "      <td>2-HAM</td>\n",
       "      <td>2.0</td>\n",
       "      <td>2.0</td>\n",
       "      <td>2.0</td>\n",
       "      <td>2.0</td>\n",
       "      <td>2.0</td>\n",
       "    </tr>\n",
       "    <tr>\n",
       "      <th>2</th>\n",
       "      <td>3</td>\n",
       "      <td>Portuguese Grand Prix</td>\n",
       "      <td>BOT</td>\n",
       "      <td>1</td>\n",
       "      <td>3-BOT</td>\n",
       "      <td>3.0</td>\n",
       "      <td>3.0</td>\n",
       "      <td>3.0</td>\n",
       "      <td>3.0</td>\n",
       "      <td>3.0</td>\n",
       "    </tr>\n",
       "    <tr>\n",
       "      <th>3</th>\n",
       "      <td>4</td>\n",
       "      <td>Spanish Grand Prix</td>\n",
       "      <td>HAM</td>\n",
       "      <td>1</td>\n",
       "      <td>4-HAM</td>\n",
       "      <td>1.0</td>\n",
       "      <td>1.0</td>\n",
       "      <td>1.0</td>\n",
       "      <td>1.0</td>\n",
       "      <td>1.0</td>\n",
       "    </tr>\n",
       "    <tr>\n",
       "      <th>4</th>\n",
       "      <td>5</td>\n",
       "      <td>Monaco Grand Prix</td>\n",
       "      <td>LEC</td>\n",
       "      <td>1</td>\n",
       "      <td>5-LEC</td>\n",
       "      <td>NaN</td>\n",
       "      <td>NaN</td>\n",
       "      <td>NaN</td>\n",
       "      <td>NaN</td>\n",
       "      <td>NaN</td>\n",
       "    </tr>\n",
       "  </tbody>\n",
       "</table>\n",
       "</div>"
      ],
      "text/plain": [
       "  round                   raceName driver  quali_pos to_match  race_pos_x  \\\n",
       "0     1         Bahrain Grand Prix    VER          1    1-VER         2.0   \n",
       "1     2  Emilia Romagna Grand Prix    HAM          1    2-HAM         2.0   \n",
       "2     3      Portuguese Grand Prix    BOT          1    3-BOT         3.0   \n",
       "3     4         Spanish Grand Prix    HAM          1    4-HAM         1.0   \n",
       "4     5          Monaco Grand Prix    LEC          1    5-LEC         NaN   \n",
       "\n",
       "   race_pos_y  race_pos_x  race_pos_y  race_pos  \n",
       "0         2.0         2.0         2.0       2.0  \n",
       "1         2.0         2.0         2.0       2.0  \n",
       "2         3.0         3.0         3.0       3.0  \n",
       "3         1.0         1.0         1.0       1.0  \n",
       "4         NaN         NaN         NaN       NaN  "
      ]
     },
     "execution_count": 64,
     "metadata": {},
     "output_type": "execute_result"
    }
   ],
   "source": [
    "main_df = main_df.merge(race_df[['to_match','race_pos']],how='left',on='to_match')\n",
    "main_df.head()"
   ]
  },
  {
   "cell_type": "markdown",
   "id": "92072cdc-d696-40db-bce1-58c2327f92ae",
   "metadata": {},
   "source": [
    "## Export to csv or chart scatter plot of all data\n",
    "[to do]"
   ]
  },
  {
   "cell_type": "code",
   "execution_count": 65,
   "id": "8d807781-3332-4a53-8964-0e5673eccdd3",
   "metadata": {},
   "outputs": [],
   "source": [
    "# main_df.to_csv('plot.csv')"
   ]
  },
  {
   "cell_type": "code",
   "execution_count": 87,
   "id": "67212a3b-7fc3-4a9f-94b1-5629a7e1c09f",
   "metadata": {},
   "outputs": [
    {
     "data": {
      "text/plain": [
       "round          object\n",
       "raceName       object\n",
       "driver         object\n",
       "quali_pos       int64\n",
       "to_match       object\n",
       "race_pos_x    float64\n",
       "race_pos_y    float64\n",
       "race_pos_x    float64\n",
       "race_pos_y    float64\n",
       "race_pos      float64\n",
       "dtype: object"
      ]
     },
     "execution_count": 87,
     "metadata": {},
     "output_type": "execute_result"
    }
   ],
   "source": [
    "main_df.dtypes"
   ]
  },
  {
   "cell_type": "code",
   "execution_count": 219,
   "id": "6d849cb0-ccfb-418b-8b66-3ae019d40ab4",
   "metadata": {},
   "outputs": [
    {
     "data": {
      "image/png": "[encoded data removed]",
      "text/plain": [
       "<Figure size 432x360 with 2 Axes>"
      ]
     },
     "metadata": {
      "needs_background": "light"
     },
     "output_type": "display_data"
    },
    {
     "data": {
      "image/png": "[encoded data removed]",
      "text/plain": [
       "<Figure size 432x360 with 2 Axes>"
      ]
     },
     "metadata": {
      "needs_background": "light"
     },
     "output_type": "display_data"
    }
   ],
   "source": [
    "chart_list = ['HAM', 'MAZ']\n",
    "\n",
    "for item in chart_list:\n",
    "    pivot = pd.pivot_table(main_df.loc[main_df['driver']==item], values='round', index=['quali_pos'], columns=['race_pos'], aggfunc='count')\n",
    "    fig = plt.figure(i, figsize=(6,5))\n",
    "    ax = sns.heatmap(pivot)\n",
    "    ax.set(title = 'Driver Performance',\n",
    "        xlim =(0, 20), \n",
    "        ylim =(0, 20),\n",
    "        autoscale_on = False)\n",
    "    ax.invert_xaxis()\n",
    "    ax.invert_yaxis()\n",
    "    plt.show()"
   ]
  },
  {
   "cell_type": "code",
   "execution_count": 220,
   "id": "ac30b62b-db61-4e31-a4e9-87520a123ff6",
   "metadata": {},
   "outputs": [
    {
     "data": {
      "text/html": [
       "<div>\n",
       "<style scoped>\n",
       "    .dataframe tbody tr th:only-of-type {\n",
       "        vertical-align: middle;\n",
       "    }\n",
       "\n",
       "    .dataframe tbody tr th {\n",
       "        vertical-align: top;\n",
       "    }\n",
       "\n",
       "    .dataframe thead th {\n",
       "        text-align: right;\n",
       "    }\n",
       "</style>\n",
       "<table border=\"1\" class=\"dataframe\">\n",
       "  <thead>\n",
       "    <tr style=\"text-align: right;\">\n",
       "      <th>race_pos</th>\n",
       "      <th>14.0</th>\n",
       "      <th>17.0</th>\n",
       "      <th>18.0</th>\n",
       "      <th>19.0</th>\n",
       "      <th>20.0</th>\n",
       "    </tr>\n",
       "    <tr>\n",
       "      <th>quali_pos</th>\n",
       "      <th></th>\n",
       "      <th></th>\n",
       "      <th></th>\n",
       "      <th></th>\n",
       "      <th></th>\n",
       "    </tr>\n",
       "  </thead>\n",
       "  <tbody>\n",
       "    <tr>\n",
       "      <th>18</th>\n",
       "      <td>1.0</td>\n",
       "      <td>NaN</td>\n",
       "      <td>NaN</td>\n",
       "      <td>NaN</td>\n",
       "      <td>1.0</td>\n",
       "    </tr>\n",
       "    <tr>\n",
       "      <th>19</th>\n",
       "      <td>NaN</td>\n",
       "      <td>2.0</td>\n",
       "      <td>1.0</td>\n",
       "      <td>NaN</td>\n",
       "      <td>NaN</td>\n",
       "    </tr>\n",
       "    <tr>\n",
       "      <th>20</th>\n",
       "      <td>NaN</td>\n",
       "      <td>3.0</td>\n",
       "      <td>1.0</td>\n",
       "      <td>3.0</td>\n",
       "      <td>1.0</td>\n",
       "    </tr>\n",
       "  </tbody>\n",
       "</table>\n",
       "</div>"
      ],
      "text/plain": [
       "race_pos   14.0  17.0  18.0  19.0  20.0\n",
       "quali_pos                              \n",
       "18          1.0   NaN   NaN   NaN   1.0\n",
       "19          NaN   2.0   1.0   NaN   NaN\n",
       "20          NaN   3.0   1.0   3.0   1.0"
      ]
     },
     "execution_count": 220,
     "metadata": {},
     "output_type": "execute_result"
    }
   ],
   "source": [
    "pivot"
   ]
  },
  {
   "cell_type": "code",
   "execution_count": null,
   "id": "5172ce30-c4b2-434d-87e0-ba6ddee45866",
   "metadata": {},
   "outputs": [],
   "source": []
  }
 ],
 "metadata": {
  "kernelspec": {
   "display_name": "Python 3 (ipykernel)",
   "language": "python",
   "name": "python3"
  },
  "language_info": {
   "codemirror_mode": {
    "name": "ipython",
    "version": 3
   },
   "file_extension": ".py",
   "mimetype": "text/x-python",
   "name": "python",
   "nbconvert_exporter": "python",
   "pygments_lexer": "ipython3",
   "version": "3.9.6"
  }
 },
 "nbformat": 4,
 "nbformat_minor": 5
}
